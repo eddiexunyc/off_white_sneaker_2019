{
 "cells": [
  {
   "cell_type": "code",
   "execution_count": 1,
   "metadata": {},
   "outputs": [],
   "source": [
    "import numpy as np\n",
    "import pandas as pd\n",
    "import seaborn as sns\n",
    "import matplotlib.pyplot as plt\n",
    "from sklearn import preprocessing, svm\n",
    "from sklearn.model_selection import train_test_split\n",
    "from sklearn.linear_model import LinearRegression"
   ]
  },
  {
   "cell_type": "code",
   "execution_count": 2,
   "metadata": {},
   "outputs": [
    {
     "data": {
      "text/html": [
       "<div>\n",
       "<style scoped>\n",
       "    .dataframe tbody tr th:only-of-type {\n",
       "        vertical-align: middle;\n",
       "    }\n",
       "\n",
       "    .dataframe tbody tr th {\n",
       "        vertical-align: top;\n",
       "    }\n",
       "\n",
       "    .dataframe thead th {\n",
       "        text-align: right;\n",
       "    }\n",
       "</style>\n",
       "<table border=\"1\" class=\"dataframe\">\n",
       "  <thead>\n",
       "    <tr style=\"text-align: right;\">\n",
       "      <th></th>\n",
       "      <th>Order Date</th>\n",
       "      <th>Brand</th>\n",
       "      <th>Sneaker Name</th>\n",
       "      <th>Sale Price</th>\n",
       "      <th>Retail Price</th>\n",
       "      <th>Release Date</th>\n",
       "      <th>Shoe Size</th>\n",
       "      <th>Buyer Region</th>\n",
       "      <th>Gain/Loss</th>\n",
       "    </tr>\n",
       "  </thead>\n",
       "  <tbody>\n",
       "    <tr>\n",
       "      <th>0</th>\n",
       "      <td>9/7/17</td>\n",
       "      <td>Off-White</td>\n",
       "      <td>Nike-Air-Max-90-Off-White</td>\n",
       "      <td>1600</td>\n",
       "      <td>160</td>\n",
       "      <td>9/9/17</td>\n",
       "      <td>8.0</td>\n",
       "      <td>California</td>\n",
       "      <td>1440</td>\n",
       "    </tr>\n",
       "    <tr>\n",
       "      <th>1</th>\n",
       "      <td>9/7/17</td>\n",
       "      <td>Off-White</td>\n",
       "      <td>Nike-Air-Max-90-Off-White</td>\n",
       "      <td>1090</td>\n",
       "      <td>160</td>\n",
       "      <td>9/9/17</td>\n",
       "      <td>11.5</td>\n",
       "      <td>New York</td>\n",
       "      <td>930</td>\n",
       "    </tr>\n",
       "    <tr>\n",
       "      <th>2</th>\n",
       "      <td>9/7/17</td>\n",
       "      <td>Off-White</td>\n",
       "      <td>Nike-Air-Presto-Off-White</td>\n",
       "      <td>1344</td>\n",
       "      <td>160</td>\n",
       "      <td>9/9/17</td>\n",
       "      <td>10.0</td>\n",
       "      <td>New York</td>\n",
       "      <td>1184</td>\n",
       "    </tr>\n",
       "    <tr>\n",
       "      <th>3</th>\n",
       "      <td>9/7/17</td>\n",
       "      <td>Off-White</td>\n",
       "      <td>Nike-Air-Presto-Off-White</td>\n",
       "      <td>1325</td>\n",
       "      <td>160</td>\n",
       "      <td>9/9/17</td>\n",
       "      <td>10.0</td>\n",
       "      <td>Massachusetts</td>\n",
       "      <td>1165</td>\n",
       "    </tr>\n",
       "    <tr>\n",
       "      <th>4</th>\n",
       "      <td>9/7/17</td>\n",
       "      <td>Off-White</td>\n",
       "      <td>Nike-Air-VaporMax-Off-White</td>\n",
       "      <td>1800</td>\n",
       "      <td>250</td>\n",
       "      <td>9/9/17</td>\n",
       "      <td>12.0</td>\n",
       "      <td>Kentucky</td>\n",
       "      <td>1550</td>\n",
       "    </tr>\n",
       "  </tbody>\n",
       "</table>\n",
       "</div>"
      ],
      "text/plain": [
       "  Order Date      Brand                 Sneaker Name  Sale Price  \\\n",
       "0     9/7/17  Off-White    Nike-Air-Max-90-Off-White        1600   \n",
       "1     9/7/17  Off-White    Nike-Air-Max-90-Off-White        1090   \n",
       "2     9/7/17  Off-White    Nike-Air-Presto-Off-White        1344   \n",
       "3     9/7/17  Off-White    Nike-Air-Presto-Off-White        1325   \n",
       "4     9/7/17  Off-White  Nike-Air-VaporMax-Off-White        1800   \n",
       "\n",
       "   Retail Price Release Date  Shoe Size   Buyer Region  Gain/Loss  \n",
       "0           160       9/9/17        8.0     California       1440  \n",
       "1           160       9/9/17       11.5       New York        930  \n",
       "2           160       9/9/17       10.0       New York       1184  \n",
       "3           160       9/9/17       10.0  Massachusetts       1165  \n",
       "4           250       9/9/17       12.0       Kentucky       1550  "
      ]
     },
     "execution_count": 2,
     "metadata": {},
     "output_type": "execute_result"
    }
   ],
   "source": [
    "#import the csv and create a dataframe\n",
    "off_white_path = \"../static/data/off_white_2019.csv\"\n",
    "off_white_sneaker_df = pd.read_csv(off_white_path, header=0)\n",
    "off_white_sneaker_df.head()"
   ]
  },
  {
   "cell_type": "code",
   "execution_count": 3,
   "metadata": {},
   "outputs": [
    {
     "data": {
      "text/plain": [
       "(27794, 9)"
      ]
     },
     "execution_count": 3,
     "metadata": {},
     "output_type": "execute_result"
    }
   ],
   "source": [
    "#check the dataframe size\n",
    "off_white_sneaker_df.shape"
   ]
  },
  {
   "cell_type": "code",
   "execution_count": 4,
   "metadata": {},
   "outputs": [
    {
     "data": {
      "text/plain": [
       "Index(['Order Date', 'Brand', 'Sneaker Name', 'Sale Price', 'Retail Price',\n",
       "       'Release Date', 'Shoe Size', 'Buyer Region', 'Gain/Loss'],\n",
       "      dtype='object')"
      ]
     },
     "execution_count": 4,
     "metadata": {},
     "output_type": "execute_result"
    }
   ],
   "source": [
    "#check the columns\n",
    "off_white_sneaker_df.columns"
   ]
  },
  {
   "cell_type": "code",
   "execution_count": 5,
   "metadata": {},
   "outputs": [],
   "source": [
    "#format the column names\n",
    "off_white_sneaker_df = off_white_sneaker_df.rename(columns={\n",
    "    \"Order Date\": \"Order_Date\",\n",
    "    \"Sneaker Name\": \"Sneaker_Name\",\n",
    "    \"Sale Price\": \"Sale_Price\",\n",
    "    \"Retail Price\": \"Retail_Price\",\n",
    "    \"Release Date\": \"Release_Date\",\n",
    "    \"Shoe Size\": \"Shoe_Size\",\n",
    "    \"Buyer Region\": \"Buyer_Region\",\n",
    "})"
   ]
  },
  {
   "cell_type": "code",
   "execution_count": 6,
   "metadata": {},
   "outputs": [
    {
     "data": {
      "text/html": [
       "<div>\n",
       "<style scoped>\n",
       "    .dataframe tbody tr th:only-of-type {\n",
       "        vertical-align: middle;\n",
       "    }\n",
       "\n",
       "    .dataframe tbody tr th {\n",
       "        vertical-align: top;\n",
       "    }\n",
       "\n",
       "    .dataframe thead th {\n",
       "        text-align: right;\n",
       "    }\n",
       "</style>\n",
       "<table border=\"1\" class=\"dataframe\">\n",
       "  <thead>\n",
       "    <tr style=\"text-align: right;\">\n",
       "      <th></th>\n",
       "      <th>Order_Date</th>\n",
       "      <th>Brand</th>\n",
       "      <th>Sneaker_Name</th>\n",
       "      <th>Sale_Price</th>\n",
       "      <th>Retail_Price</th>\n",
       "      <th>Release_Date</th>\n",
       "      <th>Shoe_Size</th>\n",
       "      <th>Buyer_Region</th>\n",
       "      <th>Gain/Loss</th>\n",
       "    </tr>\n",
       "  </thead>\n",
       "  <tbody>\n",
       "    <tr>\n",
       "      <th>0</th>\n",
       "      <td>9/7/17</td>\n",
       "      <td>Off-White</td>\n",
       "      <td>Nike-Air-Max-90-Off-White</td>\n",
       "      <td>1600</td>\n",
       "      <td>160</td>\n",
       "      <td>9/9/17</td>\n",
       "      <td>8.0</td>\n",
       "      <td>California</td>\n",
       "      <td>1440</td>\n",
       "    </tr>\n",
       "    <tr>\n",
       "      <th>1</th>\n",
       "      <td>9/7/17</td>\n",
       "      <td>Off-White</td>\n",
       "      <td>Nike-Air-Max-90-Off-White</td>\n",
       "      <td>1090</td>\n",
       "      <td>160</td>\n",
       "      <td>9/9/17</td>\n",
       "      <td>11.5</td>\n",
       "      <td>New York</td>\n",
       "      <td>930</td>\n",
       "    </tr>\n",
       "    <tr>\n",
       "      <th>2</th>\n",
       "      <td>9/7/17</td>\n",
       "      <td>Off-White</td>\n",
       "      <td>Nike-Air-Presto-Off-White</td>\n",
       "      <td>1344</td>\n",
       "      <td>160</td>\n",
       "      <td>9/9/17</td>\n",
       "      <td>10.0</td>\n",
       "      <td>New York</td>\n",
       "      <td>1184</td>\n",
       "    </tr>\n",
       "    <tr>\n",
       "      <th>3</th>\n",
       "      <td>9/7/17</td>\n",
       "      <td>Off-White</td>\n",
       "      <td>Nike-Air-Presto-Off-White</td>\n",
       "      <td>1325</td>\n",
       "      <td>160</td>\n",
       "      <td>9/9/17</td>\n",
       "      <td>10.0</td>\n",
       "      <td>Massachusetts</td>\n",
       "      <td>1165</td>\n",
       "    </tr>\n",
       "    <tr>\n",
       "      <th>4</th>\n",
       "      <td>9/7/17</td>\n",
       "      <td>Off-White</td>\n",
       "      <td>Nike-Air-VaporMax-Off-White</td>\n",
       "      <td>1800</td>\n",
       "      <td>250</td>\n",
       "      <td>9/9/17</td>\n",
       "      <td>12.0</td>\n",
       "      <td>Kentucky</td>\n",
       "      <td>1550</td>\n",
       "    </tr>\n",
       "  </tbody>\n",
       "</table>\n",
       "</div>"
      ],
      "text/plain": [
       "  Order_Date      Brand                 Sneaker_Name  Sale_Price  \\\n",
       "0     9/7/17  Off-White    Nike-Air-Max-90-Off-White        1600   \n",
       "1     9/7/17  Off-White    Nike-Air-Max-90-Off-White        1090   \n",
       "2     9/7/17  Off-White    Nike-Air-Presto-Off-White        1344   \n",
       "3     9/7/17  Off-White    Nike-Air-Presto-Off-White        1325   \n",
       "4     9/7/17  Off-White  Nike-Air-VaporMax-Off-White        1800   \n",
       "\n",
       "   Retail_Price Release_Date  Shoe_Size   Buyer_Region  Gain/Loss  \n",
       "0           160       9/9/17        8.0     California       1440  \n",
       "1           160       9/9/17       11.5       New York        930  \n",
       "2           160       9/9/17       10.0       New York       1184  \n",
       "3           160       9/9/17       10.0  Massachusetts       1165  \n",
       "4           250       9/9/17       12.0       Kentucky       1550  "
      ]
     },
     "execution_count": 6,
     "metadata": {},
     "output_type": "execute_result"
    }
   ],
   "source": [
    "off_white_sneaker_df.head()"
   ]
  },
  {
   "cell_type": "code",
   "execution_count": null,
   "metadata": {},
   "outputs": [],
   "source": []
  },
  {
   "cell_type": "code",
   "execution_count": null,
   "metadata": {},
   "outputs": [],
   "source": []
  }
 ],
 "metadata": {
  "kernelspec": {
   "display_name": "Python 3",
   "language": "python",
   "name": "python3"
  },
  "language_info": {
   "codemirror_mode": {
    "name": "ipython",
    "version": 3
   },
   "file_extension": ".py",
   "mimetype": "text/x-python",
   "name": "python",
   "nbconvert_exporter": "python",
   "pygments_lexer": "ipython3",
   "version": "3.8.3"
  }
 },
 "nbformat": 4,
 "nbformat_minor": 4
}
